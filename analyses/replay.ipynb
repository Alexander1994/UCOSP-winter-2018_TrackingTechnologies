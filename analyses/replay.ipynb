{
 "cells": [
  {
   "cell_type": "code",
   "execution_count": 1,
   "metadata": {},
   "outputs": [],
   "source": [
    "import sys\n",
    "sys.path.append('..')\n",
    "from utils import load_data_util"
   ]
  },
  {
   "cell_type": "code",
   "execution_count": 2,
   "metadata": {},
   "outputs": [],
   "source": [
    "import pandas as pd\n",
    "import json"
   ]
  },
  {
   "cell_type": "markdown",
   "metadata": {},
   "source": [
    "**This analysis aim to look at known sites which calls known session replay sites to see if we can find signs of session replay activity.**\n",
    "\n",
    "Session replay providers are services that offer websites a way to track their users - from how they interact with the site to what searches they performed and input they provided. Some session replay providers may even record personal information such as personal addresses and credit card information.\n",
    "\n",
    "The list of session replay sites comes from the  [**Princeton WebTAP project**](https://webtransparency.cs.princeton.edu/no_boundaries/session_replay_sites.html), which listed sites within the Alexa top 10,000 that show signs of session replay scripts.\n",
    "\n",
    "With a sample size of 500 sites - 21 were found to use session replay calls.\n",
    "However when we boil it down to the base url the sample size reduced to 279 unique base urls and 15 of which uses session replay:\n",
    "  \n",
    "*'hdrezka.ag',\n",
    "*'sprashivai.ru',\n",
    "*'getcourse.ru',\n",
    "*'www.cardinalcommerce.com',\n",
    "*'tap.az',\n",
    "*'out.pladform.ru',\n",
    "*'www.geekbuying.com',\n",
    "*'www.the-star.co.ke',\n",
    "*'dnevnik.ru',\n",
    "*'studfiles.net',\n",
    "*'pagseguro.uol.com.br',\n",
    "*'www.universal.org',\n",
    "*'dugtor.ru',\n",
    "*'seasonvar.ru',\n",
    "*'porn555.com'\n",
    "\n",
    "Correlation between call symbols and wheter or not the call is a session replay call is also attempted, however the correlation weren't very strong - with the highest being **window.navigator.plugins[Shockwave Flash].version** at 0.105229\n",
    "\n",
    "\n"
   ]
  },
  {
   "cell_type": "code",
   "execution_count": 3,
   "metadata": {
    "scrolled": false
   },
   "outputs": [
    {
     "name": "stderr",
     "output_type": "stream",
     "text": [
      "rejected '1_21e5ef84bd5a70860d496896c77a226c50efce2ca8ac54c6d9757539.json' because: script_col is '' when it should be a number.\n",
      "rejected '1_a36b8d1d4be60955eeb0830dd5fa6ae88ef7e0388c4329b62ec14a9e.json' because: Invalid call stack format: row and column information was not present at the end of a call stack frame.\n"
     ]
    }
   ],
   "source": [
    "data_frame = load_data_util.load_random_data(500, seed=3)"
   ]
  },
  {
   "cell_type": "markdown",
   "metadata": {},
   "source": [
    "Get the list of known session replay providers"
   ]
  },
  {
   "cell_type": "code",
   "execution_count": 4,
   "metadata": {},
   "outputs": [],
   "source": [
    "def get_replay_sites():\n",
    "    \"\"\"Loads a list of session replay providers from the Princeton WebTAP project,\n",
    "    which listed sites within the Alexa top 10,000 that show signs of session replay scripts.\n",
    "    \"\"\"\n",
    "    replay_list = pd.read_csv('../data/sr_site_list.csv')\n",
    "    return replay_list.third_party.unique()"
   ]
  },
  {
   "cell_type": "code",
   "execution_count": 5,
   "metadata": {},
   "outputs": [],
   "source": [
    "replay_sites = get_replay_sites()"
   ]
  },
  {
   "cell_type": "markdown",
   "metadata": {},
   "source": [
    "Get the list of calls where the script_url is one of the known session replay providers"
   ]
  },
  {
   "cell_type": "code",
   "execution_count": 6,
   "metadata": {},
   "outputs": [],
   "source": [
    "def get_replay_data_frames(replay_sites):\n",
    "    \"\"\"Parses through the data frame containing calls from the crawl and returns a data frame containing a subset of the \n",
    "    calls with a script_url string containing one of the provided replay providers.\n",
    "    \"\"\"\n",
    "    replay_data_frames = []\n",
    "    for replay_provider in replay_sites:\n",
    "        replay_data_frames.append(data_frame.query(\"script_url.str.contains('\"+ replay_provider +\"')\"))\n",
    "    return pd.concat(replay_data_frames)"
   ]
  },
  {
   "cell_type": "code",
   "execution_count": 9,
   "metadata": {},
   "outputs": [],
   "source": [
    "replay_calls = get_replay_data_frames(replay_sites)"
   ]
  },
  {
   "cell_type": "code",
   "execution_count": 12,
   "metadata": {},
   "outputs": [
    {
     "data": {
      "text/plain": [
       "array(['yandex.ru', 'clicktale.net', 'hotjar.com', 'sessioncam.com',\n",
       "       'inspectlet.com', 'userreplay.net', 'mouseflow.com',\n",
       "       'decibelinsight.net', 'fullstory.com', 'luckyorange.com',\n",
       "       'quantummetric.com', 'salemove.com', 'smartlook.com',\n",
       "       'logrocket.com'], dtype=object)"
      ]
     },
     "execution_count": 12,
     "metadata": {},
     "output_type": "execute_result"
    }
   ],
   "source": [
    "replay_sites"
   ]
  },
  {
   "cell_type": "markdown",
   "metadata": {},
   "source": [
    "Of the ~25000 calls examined, 864 of them are to one of the listed session replay providers."
   ]
  },
  {
   "cell_type": "code",
   "execution_count": 14,
   "metadata": {
    "scrolled": true
   },
   "outputs": [
    {
     "data": {
      "text/plain": [
       "(25460, 15)"
      ]
     },
     "execution_count": 14,
     "metadata": {},
     "output_type": "execute_result"
    }
   ],
   "source": [
    "data_frame.shape"
   ]
  },
  {
   "cell_type": "code",
   "execution_count": 15,
   "metadata": {
    "scrolled": true
   },
   "outputs": [
    {
     "data": {
      "text/plain": [
       "(864, 15)"
      ]
     },
     "execution_count": 15,
     "metadata": {},
     "output_type": "execute_result"
    }
   ],
   "source": [
    "replay_calls.shape"
   ]
  },
  {
   "cell_type": "markdown",
   "metadata": {},
   "source": [
    "Adds a flag onto the data frame to indicate if a given call is to a known session replay provider"
   ]
  },
  {
   "cell_type": "code",
   "execution_count": 16,
   "metadata": {},
   "outputs": [],
   "source": [
    "def add_is_provider_tag_to_df():\n",
    "    \"\"\"Adds a flag onto the data frame to indicate if a given call is to a known session replay provider\n",
    "    \"\"\"\n",
    "    data_frame[\"is_replay_provider\"] = 0\n",
    "    for index in replay_calls.index:\n",
    "        data_frame.loc[[index], [\"is_replay_provider\"]] = 1"
   ]
  },
  {
   "cell_type": "code",
   "execution_count": 17,
   "metadata": {},
   "outputs": [],
   "source": [
    "add_is_provider_tag_to_df()"
   ]
  },
  {
   "cell_type": "markdown",
   "metadata": {},
   "source": [
    "There doesn't seem to be a strong correlation between other numerical columns and if the call is to a session replay provider. But looking at the numeric column, this is not a surprise file_number, script_col etc..."
   ]
  },
  {
   "cell_type": "code",
   "execution_count": 18,
   "metadata": {
    "scrolled": false
   },
   "outputs": [
    {
     "data": {
      "text/plain": [
       "crawl_id                   NaN\n",
       "file_number          -0.061402\n",
       "in_iframe            -0.082053\n",
       "script_col           -0.065132\n",
       "script_line          -0.031306\n",
       "is_replay_provider    1.000000\n",
       "Name: is_replay_provider, dtype: float64"
      ]
     },
     "execution_count": 18,
     "metadata": {},
     "output_type": "execute_result"
    }
   ],
   "source": [
    "data_frame.corr()[\"is_replay_provider\"]"
   ]
  },
  {
   "cell_type": "markdown",
   "metadata": {},
   "source": [
    "Next attempt is to hot encode the symbol column, and see if any symbols has a correlation with a session replay call."
   ]
  },
  {
   "cell_type": "code",
   "execution_count": 19,
   "metadata": {
    "scrolled": true
   },
   "outputs": [],
   "source": [
    "symbol_encoded = pd.get_dummies(data_frame[\"symbol\"])"
   ]
  },
  {
   "cell_type": "code",
   "execution_count": 20,
   "metadata": {},
   "outputs": [],
   "source": [
    "data_frame_with_symbol = pd.concat([data_frame, symbol_encoded], axis=1)"
   ]
  },
  {
   "cell_type": "markdown",
   "metadata": {},
   "source": [
    "Again, no strong correlations were found"
   ]
  },
  {
   "cell_type": "code",
   "execution_count": 21,
   "metadata": {
    "scrolled": true
   },
   "outputs": [
    {
     "data": {
      "text/plain": [
       "is_replay_provider                                                       1.000000\n",
       "window.navigator.plugins[Shockwave Flash].version                        0.105229\n",
       "window.navigator.languages                                               0.092501\n",
       "window.navigator.mimeTypes[application/futuresplash].description         0.072583\n",
       "window.navigator.mimeTypes[application/x-shockwave-flash].description    0.072583\n",
       "window.navigator.mimeTypes[application/futuresplash].suffixes            0.064548\n",
       "window.navigator.mimeTypes[application/x-shockwave-flash].suffixes       0.064548\n",
       "window.navigator.mimeTypes[application/futuresplash].type                0.044148\n",
       "window.navigator.mimeTypes[application/x-shockwave-flash].type           0.033428\n",
       "window.navigator.platform                                                0.033294\n",
       "window.navigator.plugins[Shockwave Flash].filename                       0.032890\n",
       "window.navigator.onLine                                                  0.027419\n",
       "window.navigator.plugins[Shockwave Flash].name                           0.026443\n",
       "window.navigator.oscpu                                                   0.025387\n",
       "window.navigator.doNotTrack                                              0.017437\n",
       "window.Storage.setItem                                                   0.015234\n",
       "window.Storage.getItem                                                   0.013496\n",
       "window.navigator.productSub                                              0.013329\n",
       "window.navigator.cookieEnabled                                           0.009732\n",
       "window.document.cookie                                                   0.007715\n",
       "window.navigator.vendor                                                  0.007705\n",
       "window.navigator.language                                                0.005037\n",
       "window.navigator.plugins[Shockwave Flash].description                    0.004430\n",
       "window.Storage.clear                                                    -0.001175\n",
       "CanvasRenderingContext2D.isPointInPath                                  -0.001175\n",
       "OfflineAudioContext.createOscillator                                    -0.001175\n",
       "OscillatorNode.frequency                                                -0.001175\n",
       "OfflineAudioContext.createDynamicsCompressor                            -0.001175\n",
       "OfflineAudioContext.startRendering                                      -0.001175\n",
       "OfflineAudioContext.destination                                         -0.001175\n",
       "                                                                           ...   \n",
       "window.navigator.plugins[Shockwave Flash].length                        -0.006107\n",
       "CanvasRenderingContext2D.fillRect                                       -0.006649\n",
       "CanvasRenderingContext2D.bezierCurveTo                                  -0.007053\n",
       "window.Storage.key                                                      -0.007246\n",
       "window.screen.pixelDepth                                                -0.007435\n",
       "window.navigator.product                                                -0.008060\n",
       "window.Storage.length                                                   -0.008560\n",
       "CanvasRenderingContext2D.lineWidth                                      -0.009109\n",
       "CanvasRenderingContext2D.stroke                                         -0.009260\n",
       "HTMLCanvasElement.width                                                 -0.009409\n",
       "HTMLCanvasElement.height                                                -0.009409\n",
       "CanvasRenderingContext2D.fillStyle                                      -0.009482\n",
       "RTCPeerConnection.localDescription                                      -0.009699\n",
       "CanvasRenderingContext2D.fillText                                       -0.009981\n",
       "CanvasRenderingContext2D.textAlign                                      -0.010783\n",
       "window.navigator.appName                                                -0.011444\n",
       "HTMLCanvasElement.getContext                                            -0.011591\n",
       "CanvasRenderingContext2D.measureText                                    -0.011651\n",
       "CanvasRenderingContext2D.textBaseline                                   -0.011769\n",
       "window.Storage.removeItem                                               -0.013386\n",
       "window.navigator.appVersion                                             -0.015682\n",
       "window.name                                                             -0.016805\n",
       "CanvasRenderingContext2D.font                                           -0.016886\n",
       "window.sessionStorage                                                   -0.024096\n",
       "script_line                                                             -0.031306\n",
       "window.navigator.userAgent                                              -0.035954\n",
       "file_number                                                             -0.061402\n",
       "script_col                                                              -0.065132\n",
       "in_iframe                                                               -0.082053\n",
       "crawl_id                                                                      NaN\n",
       "Name: is_replay_provider, Length: 128, dtype: float64"
      ]
     },
     "execution_count": 21,
     "metadata": {},
     "output_type": "execute_result"
    }
   ],
   "source": [
    "data_frame_with_symbol.corr().is_replay_provider.sort_values(ascending = False)"
   ]
  },
  {
   "cell_type": "markdown",
   "metadata": {},
   "source": [
    "Group the symbols called by the file number to see if any common calls were made between different sites: window.document.cookie was called by all sites"
   ]
  },
  {
   "cell_type": "code",
   "execution_count": 22,
   "metadata": {},
   "outputs": [
    {
     "name": "stdout",
     "output_type": "stream",
     "text": [
      "['window.localStorage' 'window.navigator.userAgent'\n",
      " 'window.document.cookie' 'window.Storage.getItem'\n",
      " 'window.Storage.removeItem' 'window.navigator.languages'\n",
      " 'window.navigator.plugins[Shockwave Flash].name' 'window.name'\n",
      " 'window.screen.colorDepth'\n",
      " 'window.navigator.plugins[Shockwave Flash].version'\n",
      " 'window.navigator.plugins[Shockwave Flash].description'\n",
      " 'window.navigator.plugins[Shockwave Flash].filename'\n",
      " 'window.navigator.mimeTypes[application/futuresplash].type'\n",
      " 'window.navigator.mimeTypes[application/futuresplash].description'\n",
      " 'window.navigator.mimeTypes[application/futuresplash].suffixes'\n",
      " 'window.navigator.mimeTypes[application/x-shockwave-flash].type'\n",
      " 'window.navigator.mimeTypes[application/x-shockwave-flash].description'\n",
      " 'window.navigator.mimeTypes[application/x-shockwave-flash].suffixes'\n",
      " 'window.navigator.cookieEnabled' 'window.navigator.language'\n",
      " 'window.Storage.setItem' 'window.navigator.vendor'\n",
      " 'window.navigator.onLine' 'window.navigator.platform']\n",
      "['window.localStorage' 'window.navigator.userAgent'\n",
      " 'window.document.cookie' 'window.Storage.getItem'\n",
      " 'window.Storage.removeItem' 'window.navigator.languages'\n",
      " 'window.navigator.plugins[Shockwave Flash].name' 'window.name'\n",
      " 'window.screen.colorDepth'\n",
      " 'window.navigator.plugins[Shockwave Flash].version'\n",
      " 'window.navigator.plugins[Shockwave Flash].description'\n",
      " 'window.navigator.plugins[Shockwave Flash].filename'\n",
      " 'window.navigator.mimeTypes[application/futuresplash].type'\n",
      " 'window.navigator.mimeTypes[application/futuresplash].description'\n",
      " 'window.navigator.mimeTypes[application/futuresplash].suffixes'\n",
      " 'window.navigator.mimeTypes[application/x-shockwave-flash].type'\n",
      " 'window.navigator.mimeTypes[application/x-shockwave-flash].description'\n",
      " 'window.navigator.mimeTypes[application/x-shockwave-flash].suffixes'\n",
      " 'window.navigator.cookieEnabled' 'window.navigator.language'\n",
      " 'window.Storage.setItem' 'window.navigator.platform'\n",
      " 'window.navigator.vendor']\n",
      "['window.document.cookie']\n",
      "['window.localStorage' 'window.navigator.userAgent'\n",
      " 'window.document.cookie' 'window.Storage.getItem'\n",
      " 'window.Storage.removeItem' 'window.navigator.languages'\n",
      " 'window.navigator.plugins[Shockwave Flash].name' 'window.name'\n",
      " 'window.screen.colorDepth'\n",
      " 'window.navigator.plugins[Shockwave Flash].version'\n",
      " 'window.navigator.plugins[Shockwave Flash].description'\n",
      " 'window.navigator.plugins[Shockwave Flash].filename'\n",
      " 'window.navigator.mimeTypes[application/futuresplash].type'\n",
      " 'window.navigator.mimeTypes[application/futuresplash].description'\n",
      " 'window.navigator.mimeTypes[application/futuresplash].suffixes'\n",
      " 'window.navigator.mimeTypes[application/x-shockwave-flash].type'\n",
      " 'window.navigator.mimeTypes[application/x-shockwave-flash].description'\n",
      " 'window.navigator.mimeTypes[application/x-shockwave-flash].suffixes'\n",
      " 'window.navigator.cookieEnabled' 'window.navigator.language'\n",
      " 'window.Storage.setItem' 'window.navigator.vendor'\n",
      " 'window.navigator.platform']\n",
      "['window.document.cookie']\n",
      "['window.document.cookie']\n",
      "['window.document.cookie']\n",
      "['window.localStorage' 'window.navigator.userAgent'\n",
      " 'window.document.cookie' 'window.Storage.getItem'\n",
      " 'window.Storage.removeItem' 'window.navigator.languages'\n",
      " 'window.navigator.plugins[Shockwave Flash].name' 'window.name'\n",
      " 'window.screen.colorDepth'\n",
      " 'window.navigator.plugins[Shockwave Flash].version'\n",
      " 'window.navigator.plugins[Shockwave Flash].description'\n",
      " 'window.navigator.plugins[Shockwave Flash].filename'\n",
      " 'window.navigator.mimeTypes[application/futuresplash].type'\n",
      " 'window.navigator.mimeTypes[application/futuresplash].description'\n",
      " 'window.navigator.mimeTypes[application/futuresplash].suffixes'\n",
      " 'window.navigator.mimeTypes[application/x-shockwave-flash].type'\n",
      " 'window.navigator.mimeTypes[application/x-shockwave-flash].description'\n",
      " 'window.navigator.mimeTypes[application/x-shockwave-flash].suffixes'\n",
      " 'window.navigator.cookieEnabled' 'window.navigator.language'\n",
      " 'window.Storage.setItem' 'window.navigator.vendor'\n",
      " 'window.navigator.platform']\n",
      "['window.localStorage' 'window.navigator.userAgent'\n",
      " 'window.document.cookie' 'window.Storage.getItem'\n",
      " 'window.Storage.removeItem' 'window.name' 'window.Storage.setItem'\n",
      " 'window.navigator.languages'\n",
      " 'window.navigator.plugins[Shockwave Flash].name'\n",
      " 'window.screen.colorDepth'\n",
      " 'window.navigator.plugins[Shockwave Flash].version'\n",
      " 'window.navigator.plugins[Shockwave Flash].description'\n",
      " 'window.navigator.plugins[Shockwave Flash].filename'\n",
      " 'window.navigator.mimeTypes[application/futuresplash].type'\n",
      " 'window.navigator.mimeTypes[application/futuresplash].description'\n",
      " 'window.navigator.mimeTypes[application/futuresplash].suffixes'\n",
      " 'window.navigator.mimeTypes[application/x-shockwave-flash].type'\n",
      " 'window.navigator.mimeTypes[application/x-shockwave-flash].description'\n",
      " 'window.navigator.mimeTypes[application/x-shockwave-flash].suffixes'\n",
      " 'window.navigator.cookieEnabled' 'window.navigator.language'\n",
      " 'window.navigator.vendor' 'window.navigator.platform']\n",
      "['window.document.cookie']\n",
      "['window.document.cookie']\n",
      "['window.document.cookie']\n",
      "['window.navigator.userAgent' 'window.document.cookie'\n",
      " 'window.navigator.cookieEnabled' 'window.localStorage'\n",
      " 'window.Storage.setItem' 'window.Storage.removeItem'\n",
      " 'window.sessionStorage' 'window.navigator.doNotTrack'\n",
      " 'window.navigator.language' 'window.screen.colorDepth'\n",
      " 'window.navigator.platform' 'window.navigator.appName'\n",
      " 'window.navigator.plugins[Shockwave Flash].name'\n",
      " 'window.navigator.languages' 'window.navigator.oscpu'\n",
      " 'window.navigator.productSub' 'window.Storage.getItem']\n",
      "['window.navigator.userAgent' 'window.document.cookie'\n",
      " 'window.navigator.cookieEnabled' 'window.localStorage'\n",
      " 'window.Storage.setItem' 'window.Storage.removeItem'\n",
      " 'window.sessionStorage']\n",
      "['window.navigator.doNotTrack' 'window.document.cookie'\n",
      " 'window.navigator.userAgent' 'window.navigator.language'\n",
      " 'window.screen.colorDepth' 'window.sessionStorage' 'window.localStorage'\n",
      " 'window.navigator.platform' 'window.navigator.appName'\n",
      " 'window.navigator.plugins[Shockwave Flash].name'\n",
      " 'window.navigator.languages' 'window.navigator.oscpu'\n",
      " 'window.navigator.productSub' 'window.Storage.getItem']\n",
      "['window.Storage.getItem' 'window.Storage.setItem'\n",
      " 'window.navigator.userAgent' 'window.navigator.onLine'\n",
      " 'window.localStorage' 'window.navigator.platform'\n",
      " 'window.document.cookie']\n",
      "['window.document.cookie' 'window.navigator.vendor'\n",
      " 'window.Storage.getItem' 'window.Storage.setItem' 'window.localStorage'\n",
      " 'window.navigator.platform' 'window.navigator.userAgent']\n",
      "['window.navigator.userAgent' 'window.localStorage'\n",
      " 'window.Storage.setItem' 'window.Storage.removeItem'\n",
      " 'window.document.cookie' 'window.Storage.getItem']\n",
      "['window.document.cookie']\n",
      "['window.localStorage' 'window.navigator.userAgent'\n",
      " 'window.document.cookie' 'window.Storage.getItem'\n",
      " 'window.Storage.removeItem' 'window.navigator.languages'\n",
      " 'window.navigator.plugins[Shockwave Flash].name' 'window.name'\n",
      " 'window.screen.colorDepth'\n",
      " 'window.navigator.plugins[Shockwave Flash].version'\n",
      " 'window.navigator.plugins[Shockwave Flash].description'\n",
      " 'window.navigator.plugins[Shockwave Flash].filename'\n",
      " 'window.navigator.mimeTypes[application/futuresplash].type'\n",
      " 'window.navigator.mimeTypes[application/futuresplash].description'\n",
      " 'window.navigator.mimeTypes[application/futuresplash].suffixes'\n",
      " 'window.navigator.mimeTypes[application/x-shockwave-flash].type'\n",
      " 'window.navigator.mimeTypes[application/x-shockwave-flash].description'\n",
      " 'window.navigator.mimeTypes[application/x-shockwave-flash].suffixes'\n",
      " 'window.navigator.cookieEnabled' 'window.navigator.language'\n",
      " 'window.Storage.setItem' 'window.navigator.vendor'\n",
      " 'window.navigator.platform']\n",
      "['window.localStorage' 'window.navigator.userAgent'\n",
      " 'window.document.cookie' 'window.Storage.getItem'\n",
      " 'window.Storage.removeItem' 'window.name' 'window.Storage.setItem'\n",
      " 'window.navigator.languages'\n",
      " 'window.navigator.plugins[Shockwave Flash].name'\n",
      " 'window.screen.colorDepth'\n",
      " 'window.navigator.plugins[Shockwave Flash].version'\n",
      " 'window.navigator.plugins[Shockwave Flash].description'\n",
      " 'window.navigator.plugins[Shockwave Flash].filename'\n",
      " 'window.navigator.mimeTypes[application/futuresplash].type'\n",
      " 'window.navigator.mimeTypes[application/futuresplash].description'\n",
      " 'window.navigator.mimeTypes[application/futuresplash].suffixes'\n",
      " 'window.navigator.mimeTypes[application/x-shockwave-flash].type'\n",
      " 'window.navigator.mimeTypes[application/x-shockwave-flash].description'\n",
      " 'window.navigator.mimeTypes[application/x-shockwave-flash].suffixes'\n",
      " 'window.navigator.cookieEnabled' 'window.navigator.language'\n",
      " 'window.navigator.vendor' 'window.navigator.platform'\n",
      " 'window.navigator.onLine']\n"
     ]
    }
   ],
   "source": [
    "symbols_groupedby_file_number = data_frame_with_symbol.query(\"is_replay_provider == 1\").groupby(\"file_number\").symbol.unique()\n",
    "for groups in symbols_groupedby_file_number:\n",
    "    print(groups)"
   ]
  },
  {
   "cell_type": "markdown",
   "metadata": {},
   "source": [
    "In total, 21 urls called a session replay provider, however if we boil it down to base url, only 15 unique sites were found"
   ]
  },
  {
   "cell_type": "code",
   "execution_count": 23,
   "metadata": {
    "scrolled": true
   },
   "outputs": [
    {
     "data": {
      "text/plain": [
       "21"
      ]
     },
     "execution_count": 23,
     "metadata": {},
     "output_type": "execute_result"
    }
   ],
   "source": [
    "replay_calls.file_number.unique().size"
   ]
  },
  {
   "cell_type": "code",
   "execution_count": 24,
   "metadata": {},
   "outputs": [],
   "source": [
    "from urllib.parse import urlparse"
   ]
  },
  {
   "cell_type": "code",
   "execution_count": 25,
   "metadata": {},
   "outputs": [
    {
     "data": {
      "text/plain": [
       "['hdrezka.ag',\n",
       " 'sprashivai.ru',\n",
       " 'getcourse.ru',\n",
       " 'www.cardinalcommerce.com',\n",
       " 'tap.az',\n",
       " 'out.pladform.ru',\n",
       " 'www.geekbuying.com',\n",
       " 'www.the-star.co.ke',\n",
       " 'dnevnik.ru',\n",
       " 'studfiles.net',\n",
       " 'pagseguro.uol.com.br',\n",
       " 'www.universal.org',\n",
       " 'dugtor.ru',\n",
       " 'seasonvar.ru',\n",
       " 'porn555.com']"
      ]
     },
     "execution_count": 25,
     "metadata": {},
     "output_type": "execute_result"
    }
   ],
   "source": [
    "list(set([urlparse(location).netloc for location in replay_calls.location.unique()]))"
   ]
  },
  {
   "cell_type": "code",
   "execution_count": 26,
   "metadata": {},
   "outputs": [
    {
     "data": {
      "text/plain": [
       "279"
      ]
     },
     "execution_count": 26,
     "metadata": {},
     "output_type": "execute_result"
    }
   ],
   "source": [
    "len(list(set([urlparse(location).netloc for location in data_frame.location.unique()])))"
   ]
  },
  {
   "cell_type": "code",
   "execution_count": 61,
   "metadata": {
    "scrolled": true
   },
   "outputs": [
    {
     "data": {
      "text/plain": [
       "15"
      ]
     },
     "execution_count": 61,
     "metadata": {},
     "output_type": "execute_result"
    }
   ],
   "source": [
    "len(list(set([urlparse(location).netloc for location in replay_calls.location.unique()])))"
   ]
  },
  {
   "cell_type": "markdown",
   "metadata": {},
   "source": [
    "The number of calls per file, didn't seem to be an indicator for if the site uses a session replay provider either"
   ]
  }
 ],
 "metadata": {
  "kernelspec": {
   "display_name": "Python 3",
   "language": "python",
   "name": "python3"
  },
  "language_info": {
   "codemirror_mode": {
    "name": "ipython",
    "version": 3
   },
   "file_extension": ".py",
   "mimetype": "text/x-python",
   "name": "python",
   "nbconvert_exporter": "python",
   "pygments_lexer": "ipython3",
   "version": "3.6.4"
  }
 },
 "nbformat": 4,
 "nbformat_minor": 2
}

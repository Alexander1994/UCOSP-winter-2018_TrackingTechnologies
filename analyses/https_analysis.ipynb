{
 "cells": [
  {
   "cell_type": "markdown",
   "metadata": {},
   "source": [
    "# HTTPS and Mixed Content Vulnerability Analysis"
   ]
  },
  {
   "cell_type": "markdown",
   "metadata": {},
   "source": [
    "This notebook looks at 2 things from the crawl dataset:\n",
    "1. What percentage of websites use https.\n",
    "2. How many websites are using mixed content. \n",
    "\n",
    "Mixed content is when a HTTPS webpage loads resouces, such as javascript files, over an insecure HTTP connection."
   ]
  },
  {
   "cell_type": "code",
   "execution_count": 101,
   "metadata": {
    "collapsed": false
   },
   "outputs": [],
   "source": [
    "import sys\n",
    "sys.path.append('..')\n",
    "from utils import load_data_util"
   ]
  },
  {
   "cell_type": "code",
   "execution_count": 102,
   "metadata": {
    "collapsed": true
   },
   "outputs": [],
   "source": [
    "files_to_analyze = 10000"
   ]
  },
  {
   "cell_type": "markdown",
   "metadata": {},
   "source": [
    "#### Download webcrawl data from S3 and build a dictionary with webpage urls as keys and HTTP / HTTPS information as values."
   ]
  },
  {
   "cell_type": "code",
   "execution_count": 104,
   "metadata": {
    "collapsed": false
   },
   "outputs": [],
   "source": [
    "data = load_data_util.load_random_data(files_to_analyze, False, 42, False)\n",
    "\n",
    "result = {}\n",
    "for index, row in data.iterrows():\n",
    "    # get the url of the webpage that was being crawled and use that as a unique key.\n",
    "    key = row['location']\n",
    "    \n",
    "    if key not in result:\n",
    "        # check if the webpage is using https.\n",
    "        is_https = False\n",
    "        if key.split(\":\")[0] == \"https\":\n",
    "            is_https = True\n",
    "\n",
    "        result[key] = {\n",
    "            \"is_https\": is_https,\n",
    "            \"http_script_urls\": 0,\n",
    "            \"https_script_urls\": 0\n",
    "        }\n",
    "\n",
    "    # record the number of javascript function calls for the webpage \n",
    "    # whose script url is fetched using http or https.\n",
    "    url_protocol = row[\"script_url\"].split(\"://\")[0]\n",
    "    if url_protocol == \"http\":\n",
    "        result[key]['http_script_urls'] += 1\n",
    "    elif url_protocol == \"https\":\n",
    "        result[key]['https_script_urls'] += 1"
   ]
  },
  {
   "cell_type": "markdown",
   "metadata": {},
   "source": [
    "### Analyze the collected data to get:\n",
    "* A count of the number of websites that use https.\n",
    "* A list of websites that have mixed content."
   ]
  },
  {
   "cell_type": "code",
   "execution_count": 105,
   "metadata": {
    "collapsed": false
   },
   "outputs": [],
   "source": [
    "urls_of_websites_with_mixed_content_vulnerability = []\n",
    "number_of_https_websites = 0\n",
    "x = 0\n",
    "for key in result:\n",
    "    if result[key]['is_https']:\n",
    "        if result[key]['http_script_urls'] > 0:\n",
    "            urls_of_websites_with_mixed_content_vulnerability.append(key)\n",
    "        number_of_https_websites += 1"
   ]
  },
  {
   "cell_type": "markdown",
   "metadata": {},
   "source": [
    "### Print out information for the total number of webpages that use HTTPS."
   ]
  },
  {
   "cell_type": "code",
   "execution_count": 106,
   "metadata": {
    "collapsed": false
   },
   "outputs": [
    {
     "name": "stdout",
     "output_type": "stream",
     "text": [
      "69.79% (6979/10000) of websites use https.\n"
     ]
    }
   ],
   "source": [
    "percent_of_websites_using_https = round(number_of_https_websites / files_to_analyze * 100, 4)\n",
    "print(\n",
    "    str(percent_of_websites_using_https) + \"% (\" + \n",
    "    str(number_of_https_websites) + \"/\" + str(files_to_analyze) + \n",
    "    \") of websites use https.\"\n",
    ")"
   ]
  },
  {
   "cell_type": "markdown",
   "metadata": {},
   "source": [
    "### Print out information collected for the number of webpages that have mixed content."
   ]
  },
  {
   "cell_type": "code",
   "execution_count": 107,
   "metadata": {
    "collapsed": false
   },
   "outputs": [
    {
     "name": "stdout",
     "output_type": "stream",
     "text": [
      "0.0% (0/10000) of websites have mixed content.\n"
     ]
    }
   ],
   "source": [
    "number_of_websites_vulnerable = len(urls_of_websites_with_mixed_content_vulnerability)\n",
    "percent_of_websites_vulnerable = number_of_websites_vulnerable / files_to_analyze * 100\n",
    "print(\n",
    "    str(percent_of_websites_vulnerable) + \"% (\" + \n",
    "    str(number_of_websites_vulnerable) + \"/\" + str(files_to_analyze) + \n",
    "    \") of websites have mixed content.\"\n",
    ")\n",
    "\n",
    "if number_of_websites_vulnerable > 0:\n",
    "    print(\"The following websites have mixed content:\")\n",
    "for url in urls_of_websites_with_mixed_content_vulnerability:\n",
    "    print(url)"
   ]
  }
 ],
 "metadata": {
  "anaconda-cloud": {},
  "kernelspec": {
   "display_name": "Python [default]",
   "language": "python",
   "name": "python3"
  },
  "language_info": {
   "codemirror_mode": {
    "name": "ipython",
    "version": 3
   },
   "file_extension": ".py",
   "mimetype": "text/x-python",
   "name": "python",
   "nbconvert_exporter": "python",
   "pygments_lexer": "ipython3",
   "version": "3.5.2"
  }
 },
 "nbformat": 4,
 "nbformat_minor": 1
}
